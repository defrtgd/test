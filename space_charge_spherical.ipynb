{
 "cells": [
  {
   "cell_type": "code",
   "execution_count": 1,
   "metadata": {},
   "outputs": [
    {
     "name": "stdout",
     "output_type": "stream",
     "text": [
      "Using matplotlib backend: Qt5Agg\n",
      "Populating the interactive namespace from numpy and matplotlib\n"
     ]
    }
   ],
   "source": [
    "%pylab"
   ]
  },
  {
   "cell_type": "code",
   "execution_count": 2,
   "metadata": {},
   "outputs": [],
   "source": [
    "import numpy as np\n",
    "import matplotlib.pyplot as plt\n",
    "import matplotlib.ticker\n",
    "from scipy import optimize\n",
    "from scipy.integrate import simps \n",
    "from mpl_toolkits.axes_grid1.inset_locator import inset_axes\n",
    "from scipy.optimize import curve_fit\n",
    "\n",
    "\n",
    "from scipy.optimize import curve_fit\n",
    "\n",
    "\n",
    "from matplotlib import rc\n",
    "plt.rc('text', usetex=True)\n",
    "plt.rc('font', family='serif')\n",
    "\n",
    "\n",
    "def fun_para():\n",
    "    # vg = 10*1e-06 #m/sn=2\n",
    "    # c_inf=1.*1000 #mol/m3\n",
    "    dV = 1. #V\n",
    "    Dc=4.5e-010 #m2/s\n",
    "    Da=4.5e-010 #m2/s\n",
    "\n",
    "    RR=8.314 #J/mol/K\n",
    "    TT=273.15+20 #K\n",
    "    uc=Dc/(RR*TT)\n",
    "    ua=Da/(RR*TT)\n",
    "    tc = 0.393 #uc/(uc+ua)\n",
    "\n",
    "    n=2.\n",
    "    F=96500.\n",
    "    rho=8.95*1000 #kg/m3\n",
    "    gamma = 1286*0.001 #1148.81*0.001 #J/m2\n",
    "    M = 63.546*0.001 #kg/mol\n",
    "    vm = M/rho\n",
    "    epss=8.854*1e-012 #C2/N/m2\n",
    "    epss0=78.54\n",
    "\n",
    "\n",
    "    return dV, Dc, Da, tc, n, F, rho, gamma, M, vm, epss, epss0, RR, TT, uc, ua\n",
    "\n",
    "\n",
    "\n",
    "[dV, Dc, Da, tc, n, F, rho, gamma, M, vm, epss, epss0, RR, TT, uc, ua] = fun_para()\n",
    "\n",
    "\n",
    "\n",
    "\n",
    "def fun_rI(x,j00,c00,R):\n",
    "    # j00 : current density (A/m2)\n",
    "    # c00 : concentration (mol/m3)\n",
    "    # R : particle radius (m)\n",
    "    vgg = (1-tc)*j00/(n*F*c00)\n",
    "    jgg = (1./3.)*n*F*(rho/M)*vgg\n",
    "    return dV-(-R)*((R*2*jgg/(epss*epss0*n*F*uc)))**0.5*((1-x)**0.5-(1./x)**0.5*np.arctan(((1-x)/x)**0.5))\n",
    "\n",
    "\n",
    "def fun_rI2(x,R):\n",
    "    D=-(2./3.)*F*n/(epss*epss0)\n",
    "    return x**3-(3./2.)*R*x**2+0.5*R**3+dV*R/D\n",
    "\n",
    "def fun_rI3(x,a,b,c):\n",
    "    return a*x**(3/2.)-b*x**0.5-c\n",
    "\n",
    "def fun_rI4(x,dV,A,R):\n",
    "    r = np.arange(R,x,(x-R)/1000.)\n",
    "    y = (x**3-r**3)**0.5/r**2\n",
    "    return dV-A*simps(y,r)\n",
    "\n",
    "\n",
    "def func_adjust_Rg075(x,a0,N):\n",
    "    return a0*(92.3/x)**N\n",
    "\n",
    "def func_adjust_Rg05(x,a0,N):\n",
    "    return a0*(82.1/x)**N"
   ]
  },
  {
   "cell_type": "markdown",
   "metadata": {},
   "source": [
    "# calcul de xI numérique"
   ]
  },
  {
   "cell_type": "code",
   "execution_count": 3,
   "metadata": {},
   "outputs": [
    {
     "name": "stdout",
     "output_type": "stream",
     "text": [
      "0.017287540438392566\n",
      "8.178658068612319e-13\n",
      "4.730955278316496e-10\n",
      "22.477990502860386\n",
      "-----\n",
      "1.8718939231022345e-07\n",
      "6.928548943581893e-06\n",
      "0.13115733113673805\n",
      "5.282624222018162e-05\n",
      "-----\n",
      "3.7463317504767314e-09\n",
      "4.896582808760726e-08\n",
      "----\n",
      "4.730955278316496e-10\n",
      "1.0182394996329245e-08\n"
     ]
    }
   ],
   "source": [
    "tau = gamma*vm/(RR*TT)\n",
    "\n",
    "print((6*tau*0.1*n*F/(gamma*vm))*exp(-n*F*0.1/(RR*TT)))\n",
    "\n",
    "print(6*tau*0.1*exp(-n*F*0.1/(RR*TT)))\n",
    "print(gamma*vm/(n*F*0.1))\n",
    "\n",
    "print(6*tau*1e+09)\n",
    "\n",
    "print('-----')\n",
    "vg = (1-tc)*80*10/(n*F*500)\n",
    "jg = n*F*(rho/M)*vg\n",
    "Ig = 4*pi*(330*1e-09)**2*jg\n",
    "tt = ((22.5*1e-09)**3-(0.5*1e-09)**3)/(3*Ig/(4*pi*(rho/M)*n*F))\n",
    "\n",
    "print(Ig)\n",
    "print(tt)\n",
    "print(2*330*1e-09/vg)\n",
    "print(tt/(2*330*1e-09/vg))\n",
    "\n",
    "\n",
    "print('-----')\n",
    "\n",
    "\n",
    "print (gamma*vm/(RR*TT))\n",
    "\n",
    "print ((2*4*80*1e-09*gamma*vm/(RR*TT))**0.5)\n",
    "\n",
    "\n",
    "print ('----')\n",
    "print(gamma*vm/(n*F*0.1))\n",
    "\n",
    "print(6*gamma*vm*np.exp(-n*F*0.01/(RR*TT))/(RR*TT))\n",
    "\n"
   ]
  },
  {
   "cell_type": "code",
   "execution_count": 18,
   "metadata": {},
   "outputs": [
    {
     "name": "stdout",
     "output_type": "stream",
     "text": [
      "xI= 108.84689046791844\n",
      "x_I Chazalviel= 106.93508039873417\n",
      "----------\n",
      "c_s = 0.200747371717312\n",
      "c_s_chaz = 0.23631645785347433\n",
      "--------------\n",
      "eta0 = 0.09875677936697413\n",
      "eta0_chaz = 0.09669680418489562\n",
      "---------\n",
      "R_c = 64.60844497687312\n",
      "---------\n",
      "R_t = 138.8175444717323\n",
      "3.1938089129176564e-08\n"
     ]
    }
   ],
   "source": [
    "#j = np.array([5., 15, 30., 50., 60., 70., 80., 90., 100.])*10\n",
    "\n",
    "j_c0 = 80.*10/500\n",
    "c00 = 500.\n",
    "#R = 350*1e-09*80*10/j00\n",
    "l = 2.\n",
    "R = 333.89*1e-09\n",
    "\n",
    "vg = (1-tc)*j_c0/(n*F)\n",
    "jg = (1./6.)*n*F*(rho/M)*vg\n",
    "A = ((2./3.)*jg*F*n/(n*F*n*uc*F*epss*epss0))**0.5*R\n",
    "\n",
    "sol = optimize.fsolve(fun_rI4,R*1.05,args=(dV,A,R))\n",
    "\n",
    "rI = sol[0]\n",
    "xI = rI-R\n",
    "\n",
    "\n",
    "xI_chaz = ((3./2.)*dV)**(2/3.)*(epss*epss0*n*F*uc/(2*jg))**(1/3.)  \n",
    "c_s_chaz = (jg*epss*epss0/(2*n*F*n*uc*F*F*n*xI_chaz))**0.5\n",
    "\n",
    "c_s = (3*jg*epss*epss0/(2*n*F*n*uc*F*F*n))**0.5*(R**2/(rI**3-R**3))**0.5\n",
    "\n",
    "eta0 = (RR*TT/(n*F))*np.log(c_s/c00)\n",
    "eta0_chaz = (RR*TT/(n*F))*np.log(c_s_chaz/c00)\n",
    "\n",
    "\n",
    "print ('xI=', xI*1e+09)\n",
    "print ('x_I Chazalviel=',xI_chaz*1e+09)\n",
    "print ('----------')\n",
    "print ('c_s =', c_s)\n",
    "print ('c_s_chaz =', c_s_chaz)\n",
    "print ('--------------')\n",
    "print ('eta0 =', -eta0)\n",
    "print ('eta0_chaz =', -eta0_chaz)\n",
    "print ('---------')\n",
    "print ('R_c =', (2*gamma*vm/(RR*TT)+(2*gamma*vm/(RR*TT)*xI*(l+2)*(l-1))**0.5)*1e+09)\n",
    "print ('---------')\n",
    "print ('R_t =', (xI + 2*gamma*vm/(RR*TT)*(l+2)*(l-1))*1e+09)\n",
    "\n",
    "print(jg*4*np.pi*(333.89*1e-09)**2)\n",
    " \n",
    "#xI : [320.517584, 220.4172329, 174.134771, 146.41503172, 137.638260 , 130.632996, 124.856198, 119.97502, 115.772043 ]\n",
    "#c_s : [0.01850484, 0.0433109, 0.07292425, 0.10634875, 0.121528, 0.1359761, 0.149821, 0.163158247, 0.176056 ]\n",
    "# eta0 : [0.1339829, 0.1232442, 0.1166647, 0.1119001, 0.11021518, 0.10879664, 0.10757213, 0.106495, 0.10553442 ]"
   ]
  },
  {
   "cell_type": "code",
   "execution_count": 14,
   "metadata": {},
   "outputs": [
    {
     "name": "stdout",
     "output_type": "stream",
     "text": [
      "4687.5\n",
      "0.09309806795385465\n",
      "0.08560614112358225\n",
      "0.07423969145413167\n",
      "0.06646476345593587\n"
     ]
    }
   ],
   "source": [
    "print 750./0.16\n",
    "print Dc*np.log(1.+(np.exp(1.)-1)*750./0.16)/((1-0.39)*(ua+uc)*2*96500)\n",
    "\n",
    "print Dc*np.log(1.+(np.exp(1.)-1)*750./0.33)/((1-0.39)*(ua+uc)*2*96500)\n",
    "\n",
    "print Dc*np.log(1.+(np.exp(1.)-1)*250./0.33)/((1-0.39)*(ua+uc)*2*96500)\n",
    "\n",
    "print Dc*np.log(1.+(np.exp(1.)-1)*250./0.7)/((1-0.39)*(ua+uc)*2*96500)"
   ]
  },
  {
   "cell_type": "code",
   "execution_count": 55,
   "metadata": {},
   "outputs": [
    {
     "name": "stdout",
     "output_type": "stream",
     "text": [
      "1.62577325625\n",
      "0.55\n",
      "0.460122699387\n"
     ]
    }
   ],
   "source": [
    "j_ex = 1. #1-100 A/m2\n",
    "etaa = 0.1\n",
    "\n",
    "print 1.38*1e-023*TT*gamma/(2*1.6*1e-019*j_ex*etaa**2)\n",
    "\n",
    "#0.0163 - 1.626 sec\n",
    "\n",
    "print 550*1e-09/(1e-06)\n",
    "\n",
    "#0.0075 - 0.55\n"
   ]
  },
  {
   "cell_type": "markdown",
   "metadata": {},
   "source": [
    "# plot xI vs xI chazalviel"
   ]
  },
  {
   "cell_type": "code",
   "execution_count": 4,
   "metadata": {},
   "outputs": [
    {
     "data": {
      "text/plain": [
       "(80, 100)"
      ]
     },
     "execution_count": 4,
     "metadata": {},
     "output_type": "execute_result"
    }
   ],
   "source": [
    "figure(figsize=(9,8))\n",
    "\n",
    "plot([25, 50, 100,150, 250, 350, 450, 550],[90.11, 88.72, 87.24, 86.49, 85.71, 85.32, 85.09, 84.93],'-ro',label=r'Spherical model (Eq. 11), $c_0$ = 0.50 M, $j=j_c$(0.50 M) = 82.1 mA/cm$^2$')\n",
    "plot([150, 250, 350, 450, 550],[95.4, 94.5, 94.05, 93.77, 93.58],'-bs',label=r'Spherical model (Eq. 11), $c_0$ = 0.75 M, $j=j_c$(0.75 M) = 92.3 mA/cm$^2$')\n",
    "\n",
    "plot([150, 550],[84.14, 84.14],'--k',label=r'1D model, $c_0$ = 0.50 M, $j=j_c$(0.50 M) = 82.1 mA/cm$^2$')\n",
    "plot([150, 550],[92.63, 92.63],'-k',label=r'1D model, $c_0$ = 0.75 M, $j=j_c$(0.75 M) = 92.3 mA/cm$^2$')\n",
    "\n",
    "\n",
    "xlabel(r'$R_g$ (nm)',fontsize=20)\n",
    "ylabel(r'$x_I(T)$ (nm)',fontsize=20)\n",
    "\n",
    "xticks(fontsize=15)\n",
    "yticks(fontsize=15)\n",
    "\n",
    "legend(loc='upper right',fontsize=16) \n",
    "\n",
    "xlim(20,600)\n",
    "ylim(80,100)"
   ]
  },
  {
   "cell_type": "markdown",
   "metadata": {},
   "source": [
    "# plot cs vs cs chazalviel"
   ]
  },
  {
   "cell_type": "code",
   "execution_count": 5,
   "metadata": {},
   "outputs": [
    {
     "name": "stdout",
     "output_type": "stream",
     "text": [
      "[1.7744     0.8724     0.5766     0.34284    0.24377143 0.18908889\n",
      " 1.958      0.9626     0.636      0.378      0.26871429 0.20837778\n",
      " 2.248      1.1052     0.72993333 0.4336     0.30805714 0.23882222]\n",
      "[-0.36155092 -0.05176252]\n"
     ]
    },
    {
     "data": {
      "text/plain": [
       "(array([0. , 0.1, 0.2, 0.3, 0.4, 0.5, 0.6, 0.7, 0.8]),\n",
       " <a list of 9 Text yticklabel objects>)"
      ]
     },
     "execution_count": 5,
     "metadata": {},
     "output_type": "execute_result"
    }
   ],
   "source": [
    "figure(figsize=(9,8))\n",
    "\n",
    "xI__05 = np.array([90.11, 88.72, 87.24, 86.49, 85.71, 85.32, 85.09, 84.93])\n",
    "R__ = np.array([25, 50, 100,150, 250, 350, 450, 550])\n",
    "cs__05 = np.array([0.123, 0.190, 0.257, 0.290, 0.322, 0.337, 0.346, 0.352])\n",
    "\n",
    "\n",
    "xI__075 = np.array([99.39, 97.90, 96.26, 95.4, 94.5, 94.05, 93.77, 93.58])\n",
    "\n",
    "cs__075 = np.array([0.095, 0.149, 0.205, 0.233, 0.261, 0.275, 0.283, 0.288])\n",
    "\n",
    "\n",
    "\n",
    "xI__05_jc2 = np.array([114.03, 112.40, 110.52, 109.49, 108.40, 107.82, 107.47, 107.23])\n",
    "\n",
    "cs__05_jc2 = np.array([0.066, 0.105, 0.149, 0.171, 0.194, 0.206, 0.213, 0.218])\n",
    "\n",
    "\n",
    "plot(xI__05/R__,np.log(1-(-cs__05+0.382)/0.382),'-ro',label=r'Spherical model (Eq. 11), $c_0$ = 0.50 M, $j=j_c$(0.50 M) = 82.1 mA/cm$^2$')\n",
    "plot(xI__075/R__,np.log(1-(-cs__075+0.315)/0.315),'-bs',label=r'Spherical model (Eq. 11), $c_0$ = 0.75 M, $j=j_c$(0.75 M) = 82.1 mA/cm$^2$')\n",
    "plot(xI__05_jc2/R__,np.log(1-(-cs__05_jc2+0.240)/0.240),'-go',label=r'Spherical model (Eq. 11), $c_0$ = 0.50 M, $j=j_c$(0.50 M) = 82.1 mA/cm$^2$')\n",
    "\n",
    "y = np.concatenate((np.log(1-(-cs__05[1:-1]+0.382)/0.382), np.log(1-(-cs__075[1:-1]+0.315)/0.315), np.log(1-(-cs__05_jc2[1:-1]+0.240)/0.240)),axis=0)\n",
    "x = np.concatenate((xI__05[1:-1]/R__[1:-1], xI__075[1:-1]/R__[1:-1], xI__05_jc2[1:-1]/R__[1:-1] ))\n",
    "print (x)\n",
    "figure()\n",
    "plot(x,y,'.')\n",
    "\n",
    "p = np.polyfit(x,y,1)\n",
    "print (p)\n",
    "\n",
    "plot(x,np.polyval(p,x),'r')\n",
    "              \n",
    "              \n",
    "\n",
    "figure()\n",
    "plot((xI__05/R__)**1,((-cs__05+0.382)/0.382),'-ro',label=r'Spherical model (Eq. 11), $c_0$ = 0.50 M, $j=j_c$(0.50 M) = 82.1 mA/cm$^2$')\n",
    "plot((xI__075/R__)**1,((-cs__075+0.315)/0.315),'-bs',label=r'Spherical model (Eq. 11), $c_0$ = 0.75 M, $j=j_c$(0.75 M) = 82.1 mA/cm$^2$')\n",
    "plot((xI__05_jc2/R__)**1,((-cs__05_jc2+0.240)/0.240),'-go',label=r'Spherical model (Eq. 11), $c_0$ = 0.50 M, $j=j_c$(0.50 M) = 82.1 mA/cm$^2$')\n",
    "\n",
    "\n",
    "#plot([150, 250, 350, 450, 550],[95.4, 94.5, 94.05, 93.77, 93.58],'-bs',label=r'Spherical model (Eq. 11), $c_0$ = 0.75 M, $j=j_c$(0.75 M) = 92.3 mA/cm$^2$')\n",
    "\n",
    "#plot([min(xI__05/R__), max(xI__05/R__)],np.array([0.382, 0.382]),'--k',label=r'1D model, $c_0$ = 0.50 M, $j=j_c$(0.50 M) = 82.1 mA/cm$^2$')\n",
    "#plot([150, 550],[92.63, 92.63],'-k',label=r'1D model, $c_0$ = 0.75 M, $j=j_c$(0.75 M) = 92.3 mA/cm$^2$')\n",
    "\n",
    "\n",
    "xlabel(r'$xI/R_g$ ',fontsize=20)\n",
    "ylabel(r'$c_s$ (mol/m$^3$)',fontsize=20)\n",
    "\n",
    "xticks(fontsize=15)\n",
    "yticks(fontsize=15)\n",
    "\n",
    "#legend(loc='upper right',fontsize=16) \n",
    "\n",
    "#xlim(20,600)\n",
    "#ylim(80,100)"
   ]
  },
  {
   "cell_type": "markdown",
   "metadata": {},
   "source": [
    "# plot xI vs xI_chaz ) f(R, j/c0)"
   ]
  },
  {
   "cell_type": "code",
   "execution_count": 6,
   "metadata": {},
   "outputs": [
    {
     "data": {
      "text/plain": [
       "<matplotlib.legend.Legend at 0x7f380d613bd0>"
      ]
     },
     "execution_count": 6,
     "metadata": {},
     "output_type": "execute_result"
    }
   ],
   "source": [
    "j_c0 = np.array([0.4, 3.05, 5.7, 8.35, 11.])\n",
    "\n",
    "R_ = np.array([25., 50., 100., 150., 250., 350., 450., 550])\n",
    "\n",
    "xI_ = np.zeros((5,8))\n",
    "cs_ = np.zeros((5,8))\n",
    "\n",
    "#xI_chaz = np.zeros((5,8))\n",
    "#cs_chaz = np.zeros((5,8))\n",
    "\n",
    "\n",
    "xI_[0,:]=[183.9277, 181.82325, 179.016118, 177.2479631,175.162941, 173.98023, 173.2202, 172.6912]\n",
    "xI_[1,:]=[92.40749155, 90.9873020, 89.47263, 88.68579,  87.88332, 87.4772871, 87.232390, 87.06865]\n",
    "xI_[2,:]=[74.698693, 73.4924, 72.29800, 71.71142, 71.13476, 70.85074, 70.68183, 70.569869]\n",
    "xI_[3,:]=[65.58838, 64.508225, 63.48613,   63.000248, 62.53221, 62.30503, 62.17093, 62.08244]\n",
    "xI_[4,:]=[59.7058, 58.713653, 57.8047, 57.38231, 56.98094,  56.787999, 56.67466, 56.60010]\n",
    "\n",
    "cs_[0,:]=[0.0175348, 0.0301306, 0.046491, 0.05640911, 0.06761, 0.073709, 0.07751,  0.0801179]\n",
    "cs_[1,:]=[0.115400, 0.178571, 0.24261, 0.27415, 0.304970, 0.3200110, 0.3288999, 0.33476]\n",
    "cs_[2,:]=[0.202231, 0.30124162, 0.393831, 0.43689, 0.47753, 0.49690, 0.508229, 0.515649]\n",
    "cs_[3,:]=[0.28336221, 0.412086, 0.526754, 0.578377,  0.626203, 0.648727, 0.661807, 0.67035084]\n",
    "cs_[4,:]=[0.3605, 0.51525263,  0.6483938, 0.707019, 0.760674,  0.7857398,  0.800240, 0.80968849]\n",
    "\n",
    "\n",
    "# anciennes versions (1/3)\n",
    "#xI_[0,:]=[145.50, 143.62, 141.28, 139.91, 138.37, 137.53, 137.01, 136.64]\n",
    "#xI_[1,:]=[73.00, 71.81, 70.65,70.08, 69.52, 69.25,  69.09, 68.98]\n",
    "#xI_[2,:]=[58.98, 58.00, 57.11, 56.69, 56.30, 56.11, 56.00, 55.93]\n",
    "#xI_[3,:]=[51.78, 50.91, 50.16, 49.82, 49.50,  49.35, 49.26, 49.21]\n",
    "#xI_[4,:]=[47.13, 46.34, 45.68, 45.39, 45.12, 44.99, 44.92, 44.87]\n",
    "#cs_[0,:]=[0.0337, 0.0560, 0.0829, 0.09799, 0.1142, 0.1226, 0.128, 0.1312]\n",
    "#cs_[1,:]=[0.2147, 0.3185, 0.4148, 0.4596, 0.5012, 0.5211, 0.5327, 0.5403]\n",
    "#cs_[2,:]=[0.3719, 0.5303, 0.666, 0.7256, 0.7800, 0.8054, 0.8201, 0.8297]\n",
    "#cs_[3,:]=[0.5171, 0.7196, 0.8853, 0.9560, 1.0196,  1.0490, 1.0660, 1.0770]\n",
    "#cs_[4,:]=[0.6543, 0.8947, 1.0852, 1.1650, 1.2360, 1.2686, 1.2873, 1.299]\n",
    "\n",
    "\n",
    "vg_ = (1-tc)*j_c0/(n*F)\n",
    "jg_ = (1./6.)*n*F*(rho/M)*vg_\n",
    "xI_chaz_ = 1e+09*((3./2.)*dV)**(2/3.)*(epss*epss0*n*F*uc/(2*jg_))**(1/3.)  \n",
    "c_s_chaz_ = (jg_*epss*epss0/(2*n*F*n*uc*F*F*n*1e-09*xI_chaz_))**0.5\n",
    "\n",
    "\n",
    "\n",
    "\n",
    "\n",
    "\n",
    "\n",
    "figure(figsize=(9,8))\n",
    "plot(R_[1:],xI_[0,1:],'.-b')\n",
    "plot(R_[1:],xI_[1,1:],'.-b')\n",
    "plot(R_[1:],xI_[2,1:],'.-b')\n",
    "plot(R_[1:],xI_[3,1:],'.-b')\n",
    "plot(R_[1:],xI_[4,1:],'.-b')\n",
    "\n",
    "plot(R_[1:],xI_[4,1:],'.-b',label=r'$x_I(T)$ spherical model')\n",
    "\n",
    "\n",
    "\n",
    "plot(R_[1:],R_[1:]*0+xI_chaz_[0],'--r')\n",
    "plot(R_[1:],R_[1:]*0+xI_chaz_[1],'--r')\n",
    "plot(R_[1:],R_[1:]*0+xI_chaz_[2],'--r')\n",
    "plot(R_[1:],R_[1:]*0+xI_chaz_[3],'--r')\n",
    "plot(R_[1:],R_[1:]*0+xI_chaz_[4],'--r')\n",
    "\n",
    "plot(R_[1:]+5000,R_[1:]*0+xI_chaz_[4],'--r',label=r'$x_I^{1\\mathrm{D}}$ one-dimensional model')\n",
    "\n",
    "xlim(20,650)\n",
    "\n",
    "xlabel(r'$R$ (nm)',fontsize=20)\n",
    "ylabel(r'Thickness of space charge region  (nm)',fontsize=20)\n",
    "xticks(fontsize=15)\n",
    "yticks(fontsize=15)\n",
    "legend(loc='center right',fontsize=18) \n",
    "\n",
    "\n",
    "\n",
    "figure(figsize=(9,8))\n",
    "plot(xI_[0,1:]/R_[1:],xI_[0,1:]/xI_chaz_[0],'.r',label=r'$j/c_0$ = 0.40 A.m/mol')\n",
    "plot(xI_[1,1:]/R_[1:],xI_[1,1:]/xI_chaz_[1],'sr',label=r'$j/c_0$ = 3.05 A.m/mol')\n",
    "plot(xI_[2,1:]/R_[1:],xI_[2,1:]/xI_chaz_[2],'ok',label=r'$j/c_0$ = 5.70 A.m/mol')\n",
    "plot(xI_[3,1:]/R_[1:],xI_[3,1:]/xI_chaz_[3],'vm',label=r'$j/c_0$ = 8.35 A.m/mol')\n",
    "plot(xI_[4,1:]/R_[1:],xI_[4,1:]/xI_chaz_[4],'xg',label=r'$j/c_0$ = 11.0 A.m/mol')\n",
    "#xlim(20,600)\n",
    "ylim(0,1.2)\n",
    "\n",
    "xlabel(r'$x_I(T)/R$',fontsize=20)\n",
    "ylabel(r'$x_I(T)/x_I^{1\\mathrm{D}}$',fontsize=20)\n",
    "\n",
    "xticks(fontsize=15)\n",
    "yticks(fontsize=15)\n",
    "\n",
    "legend(loc='lower right',fontsize=18) \n",
    "\n",
    "\n",
    "\n",
    "\n",
    "\n"
   ]
  },
  {
   "cell_type": "code",
   "execution_count": 24,
   "metadata": {},
   "outputs": [
    {
     "data": {
      "text/plain": [
       "[<matplotlib.lines.Line2D at 0x7f7f0b1f3210>]"
      ]
     },
     "execution_count": 24,
     "metadata": {},
     "output_type": "execute_result"
    }
   ],
   "source": [
    "figure()\n",
    "plot(R_,cs_[0,:],'s')\n",
    "plot(R_,cs_[1,:],'s')\n",
    "plot(R_,cs_[2,:],'s')\n",
    "plot(R_,cs_[3,:],'s')\n",
    "plot(R_,cs_[4,:],'s')\n",
    "\n",
    "plot(R_,R_*0+c_s_chaz_[0],'--r')\n",
    "plot(R_,R_*0+c_s_chaz_[1],'--r')\n",
    "plot(R_,R_*0+c_s_chaz_[2],'--r')\n",
    "plot(R_,R_*0+c_s_chaz_[3],'--r')\n",
    "plot(R_,R_*0+c_s_chaz_[4],'--r')\n",
    "\n",
    "figure()\n",
    "plot(xI_[0,:]/R_,cs_[0,:]/c_s_chaz_[0],'s')\n",
    "plot(xI_[1,:]/R_,cs_[1,:]/c_s_chaz_[1],'s')\n",
    "plot(xI_[2,:]/R_,cs_[2,:]/c_s_chaz_[2],'s')\n",
    "plot(xI_[3,:]/R_,cs_[3,:]/c_s_chaz_[3],'s')\n",
    "plot(xI_[4,:]/R_,cs_[4,:]/c_s_chaz_[4],'s')\n",
    "#xlim(20,600)\n",
    "ylim(0,1.2)\n",
    "\n",
    "figure()\n",
    "plot(xI_[0,:]/R_,np.log(cs_[0,:]/c_s_chaz_[0]),'s')\n",
    "plot(xI_[1,:]/R_,np.log(cs_[1,:]/c_s_chaz_[1]),'s')\n",
    "plot(xI_[2,:]/R_,np.log(cs_[2,:]/c_s_chaz_[2]),'s')\n",
    "plot(xI_[3,:]/R_,np.log(cs_[3,:]/c_s_chaz_[3]),'s')\n",
    "plot(xI_[4,:]/R_,np.log(cs_[4,:]/c_s_chaz_[4]),'s')\n",
    "#xlim(20,600)\n",
    "#ylim(0,1.2)\n"
   ]
  },
  {
   "cell_type": "code",
   "execution_count": 7,
   "metadata": {},
   "outputs": [
    {
     "name": "stdout",
     "output_type": "stream",
     "text": [
      "[-0.33585666 -0.05760673]\n"
     ]
    },
    {
     "name": "stderr",
     "output_type": "stream",
     "text": [
      "/home/fabien/anaconda3/lib/python3.7/site-packages/ipykernel_launcher.py:39: UserWarning: Data has no positive values, and therefore cannot be log-scaled.\n"
     ]
    },
    {
     "data": {
      "text/plain": [
       "<matplotlib.legend.Legend at 0x7f380e443310>"
      ]
     },
     "execution_count": 7,
     "metadata": {},
     "output_type": "execute_result"
    }
   ],
   "source": [
    "figure(figsize=(9,8))\n",
    "plot(R_[1:],cs_[0,1:],'.-b')\n",
    "plot(R_[1:],cs_[1,1:],'.-b')\n",
    "plot(R_[1:],cs_[2,1:],'.-b')\n",
    "plot(R_[1:],cs_[3,1:],'.-b')\n",
    "plot(R_[1:],cs_[4,1:],'.-b',label=r'$c_s^+(T)$ spherical model')\n",
    "\n",
    "\n",
    "plot(R_[1:],R_[1:]*0+c_s_chaz_[0],'--r')\n",
    "plot(R_[1:],R_[1:]*0+c_s_chaz_[1],'--r')\n",
    "plot(R_[1:],R_[1:]*0+c_s_chaz_[2],'--r')\n",
    "plot(R_[1:],R_[1:]*0+c_s_chaz_[3],'--r')\n",
    "plot(R_[1:],R_[1:]*0+c_s_chaz_[4],'--r',label=r'${c_s^+}^{1\\mathrm{D}}$ one-dimensional model')\n",
    "\n",
    "ylim(0,1.12)\n",
    "xlim(20,650)\n",
    "\n",
    "xlabel(r'$R$ (nm)',fontsize=20)\n",
    "ylabel(r'Concentration of cations on the particle surface (mol/m$^3$)',fontsize=20)\n",
    "\n",
    "xticks(fontsize=15)\n",
    "yticks(fontsize=15)\n",
    "\n",
    "legend(loc='upper center',fontsize=18) \n",
    "\n",
    "\n",
    "\n",
    "figure(figsize=(9,8))\n",
    "\n",
    "\n",
    "y = np.concatenate((np.log(cs_[0,1:]/c_s_chaz_[0]), np.log(cs_[1,1:]/c_s_chaz_[1]), np.log(cs_[2,1:]/c_s_chaz_[2]), np.log(cs_[3,1:]/c_s_chaz_[3]), np.log(cs_[4,1:]/c_s_chaz_[4])),axis=0)\n",
    "x = np.concatenate((xI_[0,1:]/R_[1:], xI_[1,1:]/R_[1:], xI_[2,1:]/R_[1:], xI_[3,1:]/R_[1:], xI_[4,1:]/R_[1:]))\n",
    "\n",
    "p = np.polyfit(x,y,1)\n",
    "print (p)\n",
    "\n",
    "plot(x,np.polyval(p,x),'r')\n",
    "\n",
    "semilogy(xI_[0,1:]/R_[1:],cs_[0,1:]/c_s_chaz_[0],'.r',label=r'$j/c_0$ = 0.40 A.m/mol')\n",
    "semilogy(xI_[1,1:]/R_[1:],cs_[1,1:]/c_s_chaz_[1],'sr',label=r'$j/c_0$ = 3.05 A.m/mol')\n",
    "semilogy(xI_[2,1:]/R_[1:],cs_[2,1:]/c_s_chaz_[2],'ok',label=r'$j/c_0$ = 5.70 A.m/mol')\n",
    "semilogy(xI_[3,1:]/R_[1:],cs_[3,1:]/c_s_chaz_[3],'vm',label=r'$j/c_0$ = 8.35 A.m/mol')\n",
    "semilogy(xI_[4,1:]/R_[1:],cs_[4,1:]/c_s_chaz_[4],'xg',label=r'$j/c_0$ = 11.0 A.m/mol')\n",
    "xx = np.array([0,3.2])\n",
    "yy = np.exp(np.polyval(p,xx))\n",
    "semilogy(xx,yy,'r',label=r'linear fit, slope = 0.336')\n",
    "#yscale('log')\n",
    "\n",
    "xlabel(r'$x_I(T)/R$',fontsize=20)\n",
    "ylabel(r'$c_s^+(T)/{c_s^+}^{1\\mathrm{D}}$',fontsize=20)\n",
    "\n",
    "\n",
    "\n",
    "xticks(fontsize=20)\n",
    "yticks(fontsize=20)\n",
    "\n",
    "\n",
    "\n",
    "legend(loc='upper right',fontsize=18) \n",
    "\n",
    "\n",
    "#xlim(20,650)\n",
    "#ylim(0,1.2)\n",
    "\n",
    "\n",
    "\n",
    "\n",
    "\n"
   ]
  },
  {
   "cell_type": "code",
   "execution_count": 12,
   "metadata": {},
   "outputs": [
    {
     "name": "stdout",
     "output_type": "stream",
     "text": [
      "[-0.33585666 -0.05760673]\n"
     ]
    },
    {
     "data": {
      "text/plain": [
       "[<matplotlib.lines.Line2D at 0x7fa45a79f8d0>]"
      ]
     },
     "execution_count": 12,
     "metadata": {},
     "output_type": "execute_result"
    }
   ],
   "source": [
    "#y = np.concatenate((np.log(cs_[0,:]/c_s_chaz_[0]), np.log(cs_[1,:]/c_s_chaz_[1]), np.log(cs_[2,:]/c_s_chaz_[2]), np.log(cs_[3,:]/c_s_chaz_[3]), np.log(cs_[4,:]/c_s_chaz_[4])),axis=0)\n",
    "#x = np.concatenate((xI_[0,:]/R_, xI_[1,:]/R_, xI_[2,:]/R_, xI_[3,:]/R_, xI_[4,:]/R_))\n",
    "\n",
    "#y = np.concatenate((np.log(cs_[1,:]/c_s_chaz_[1]), np.log(cs_[2,:]/c_s_chaz_[2]), np.log(cs_[3,:]/c_s_chaz_[3]), np.log(cs_[4,:]/c_s_chaz_[4])),axis=0)\n",
    "#x = np.concatenate((xI_[1,:]/R_, xI_[2,:]/R_, xI_[3,:]/R_, xI_[4,:]/R_))\n",
    "\n",
    "y = np.concatenate((np.log(cs_[0,1:]/c_s_chaz_[0]), np.log(cs_[1,1:]/c_s_chaz_[1]), np.log(cs_[2,1:]/c_s_chaz_[2]), np.log(cs_[3,1:]/c_s_chaz_[3]), np.log(cs_[4,1:]/c_s_chaz_[4])),axis=0)\n",
    "x = np.concatenate((xI_[0,1:]/R_[1:], xI_[1,1:]/R_[1:], xI_[2,1:]/R_[1:], xI_[3,1:]/R_[1:], xI_[4,1:]/R_[1:]))\n",
    "\n",
    "figure()\n",
    "\n",
    "\n",
    "plot(x,y,'.')\n",
    "\n",
    "p = np.polyfit(x,y,1)\n",
    "print (p)\n",
    "\n",
    "plot(x,np.polyval(p,x),'r')"
   ]
  },
  {
   "cell_type": "markdown",
   "metadata": {},
   "source": [
    "# R=f(j) "
   ]
  },
  {
   "cell_type": "code",
   "execution_count": 8,
   "metadata": {},
   "outputs": [
    {
     "name": "stdout",
     "output_type": "stream",
     "text": [
      "[2.77984929e+02 2.27157202e-01]\n",
      "[333.88879166   0.71340853]\n"
     ]
    },
    {
     "name": "stderr",
     "output_type": "stream",
     "text": [
      "/home/fabien/anaconda3/lib/python3.7/site-packages/ipykernel_launcher.py:76: RuntimeWarning: divide by zero encountered in true_divide\n"
     ]
    },
    {
     "data": {
      "text/plain": [
       "<matplotlib.legend.Legend at 0x7f380e45eb90>"
      ]
     },
     "execution_count": 8,
     "metadata": {},
     "output_type": "execute_result"
    }
   ],
   "source": [
    "j_075 = np.array([2.5, 5, 10])*0.001/(50*1e-06*7.5*0.01)/10  \n",
    "j_05 = np.array([1.75, 2.5, 5, 10])*0.001/(50*1e-06*7.5*0.01)/10 \n",
    "\n",
    "Rg_075 = np.array([274.4, 348.6, 208.9])\n",
    "Rg_05 = np.array([390.9, 435.7, 220.35, 134.9])\n",
    "\n",
    "R_inc_075 = np.array([75.93, 95.84, 40.17])\n",
    "R_inc_05 = np.array([164.45, 78.46, 60.28, 52.18])\n",
    "\n",
    "\n",
    "figure(figsize=(9,8))\n",
    "\n",
    "plot([82.1, 82.1],[0, 1000],'-k',label=r'$j_c$, $c_0$ = 0.50 M')\n",
    "plot([92.3, 92.3],[0, 1000],'--k',label=r'$j_c$, $c_0$ = 0.75 M')\n",
    "\n",
    "plot(500,700,'bs',label=r'$c_0$ = 0.75 M')\n",
    "plot(500,700,'ro',label=r'$c_0$ = 0.50 M')\n",
    "errorbar(j_075,Rg_075,yerr=R_inc_075,fmt='bs',capsize=5)\n",
    "errorbar(j_05,Rg_05,yerr=R_inc_05,fmt='ro',capsize=5)\n",
    "\n",
    "\n",
    "\n",
    "jjj = np.array([10, 30, 50, 70, 90])\n",
    "xII = np.array([175, 126, 109, 100, 94])\n",
    "#plot(jjj,xII,'g')\n",
    "\n",
    "\n",
    "#for cap in caps:\n",
    "#    cap.set_color('red')\n",
    "#    cap.set_markeredgewidth(10)\n",
    "\n",
    "#plot(j0_exp/10,Rg*1e+09,'-')\n",
    "xlabel(r'$j$ (mA/cm$^2$)',fontsize=20)\n",
    "ylabel(r'$R_g$ (nm)',fontsize=20)\n",
    "\n",
    "xticks(fontsize=15)\n",
    "yticks(fontsize=15)\n",
    "\n",
    "\n",
    "ylim(0,650)\n",
    "xlim(0,350)\n",
    "\n",
    "\n",
    "# ajustement Rg = a0*(1/j)**n\n",
    "popt075, pcov = curve_fit(func_adjust_Rg075, j_075, Rg_075,p0=[300., 1.],sigma=R_inc_075)\n",
    "popt05, pcov = curve_fit(func_adjust_Rg05, j_05[0:-1], Rg_05[0:-1],p0=[300, 1.],sigma=R_inc_05[0:-1])\n",
    "\n",
    "print (popt075)\n",
    "print (popt05)\n",
    "\n",
    "\n",
    "jj = np.linspace(0,150,100)\n",
    "#plot(jj, func_adjust_Rg075(jj, *popt075),'g')\n",
    "plot(jj, func_adjust_Rg05(jj, *popt05),'-.r',label=r'$R_g$, $c_0$ = 0.50 M, fitted by ${R_g}_c(j_c/j)^{N}$')\n",
    "plot(1,1,'.w',label=r' ')\n",
    "#func_adjust_Rg(x,a0,N)\n",
    "\n",
    "text(175,415,r'${R_g}_c=333.89$ nm, $N=0.713$',fontsize=16)\n",
    "\n",
    "legend(loc='upper right',fontsize=18,framealpha=0) \n",
    "\n"
   ]
  },
  {
   "cell_type": "markdown",
   "metadata": {},
   "source": [
    "# R_moyen = f(j)"
   ]
  },
  {
   "cell_type": "code",
   "execution_count": 16,
   "metadata": {},
   "outputs": [
    {
     "data": {
      "text/plain": [
       "(0, 350)"
      ]
     },
     "execution_count": 16,
     "metadata": {},
     "output_type": "execute_result"
    }
   ],
   "source": [
    "j_075 = np.array([2.5, 5, 10])*0.001/(50*1e-06*7.5*0.01)/10  \n",
    "j_05 = np.array([1.75, 2.5, 5, 10])*0.001/(50*1e-06*7.5*0.01)/10 \n",
    "\n",
    "Rg_075 = np.array([274.4, 348.6, 208.9])\n",
    "Rg_05 = np.array([390.9, 435.7, 220.35, 134.9])\n",
    "\n",
    "R_inc_075 = np.array([75.93, 95.84, 40.17])\n",
    "R_inc_05 = np.array([164.45, 78.46, 60.28, 52.18])\n",
    "\n",
    "\n",
    "\n",
    "j_R = j_05[0:3]\n",
    "\n",
    "#R_gg = np.array([390.9, (274.4+435.7)/2, (348.6+220.35)/2])\n",
    "R_gg = np.array([390.9, (274.4+435.7)/2, (444.38+159.58)/2])\n",
    "\n",
    "\n",
    "R_gg_inc = np.array([164.45, (512.-198.)/2, (444.38-159.58)/2 ])\n",
    "\n",
    "figure()\n",
    "\n",
    "errorbar(j_075,Rg_075,yerr=R_inc_075,fmt='bs',capsize=5)\n",
    "errorbar(j_05,Rg_05,yerr=R_inc_05,fmt='ro',capsize=5)\n",
    "\n",
    "errorbar(j_R,R_gg,yerr=R_gg_inc,fmt='gs',capsize=5)\n",
    "\n",
    "ylim(0,650)\n",
    "xlim(0,350)\n"
   ]
  },
  {
   "cell_type": "markdown",
   "metadata": {},
   "source": [
    "# eta_0 = f(j)"
   ]
  },
  {
   "cell_type": "code",
   "execution_count": 134,
   "metadata": {},
   "outputs": [
    {
     "data": {
      "text/plain": [
       "(array([0.07, 0.08, 0.09, 0.1 , 0.11, 0.12, 0.13, 0.14]),\n",
       " <a list of 8 Text yticklabel objects>)"
      ]
     },
     "execution_count": 134,
     "metadata": {},
     "output_type": "execute_result"
    }
   ],
   "source": [
    "figure(figsize=(9,8))\n",
    "\n",
    "j = np.array([5., 15, 30., 50., 60., 70., 80., 90., 100.])*10\n",
    "\n",
    "#xI : [320.517584, 220.4172329, 174.134771, 146.41503172, 137.638260 , 130.632996, 124.856198, 119.97502, 115.772043 ]\n",
    "#c_s : [0.01850484, 0.0433109, 0.07292425, 0.10634875, 0.121528, 0.1359761, 0.149821, 0.163158247, 0.176056 ]\n",
    "# eta0 : [0.1339829, 0.1232442, 0.1166647, 0.1119001, 0.11021518, 0.10879664, 0.10757213, 0.106495, 0.10553442 ]\n",
    "\n",
    "R_ =  333.89*1e-09\n",
    "\n",
    "\n",
    "vg_025 = (1-tc)*j/(n*F*250.)\n",
    "jg_025 = (1./6.)*n*F*(rho/M)*vg_025\n",
    "\n",
    "vg_05 = (1-tc)*j/(n*F*500.)\n",
    "jg_05 = (1./6.)*n*F*(rho/M)*vg_05\n",
    "\n",
    "vg_075 = (1-tc)*j/(n*F*750.)\n",
    "jg_075 = (1./6.)*n*F*(rho/M)*vg_075\n",
    "\n",
    "xI_025 = np.array([220.41723, 151.742363, 119.975023, 100.93720, 94.906776, 90.0924726, 86.12165,  82.7658755, 79.87590])\n",
    "#c_s : [0.04331, 0.0984286, 0.163158, 0.2355623, 0.268299,  0.2993957, 0.329146, 0.357764, 0.385410]\n",
    "# eta0 : [0.1093707, 0.099003, 0.092621724, 0.0879839, 0.0863406,  0.084955, 0.083759, 0.082706,  0.08176665  ]\n",
    "\n",
    "xI_05 = np.array([279.121878, 192.01885, 151.74236314, 127.6153265, 119.975023, 113.876387, 108.8468904, 104.596900, 100.937206   ])# a calculer cas par cas\n",
    "#c_s : [0.0254229, 0.05882, 0.098428, 0.14296763, 0.163158, 0.18235929, 0.2007473, 0.21844980, 0.2355623   ]\n",
    "# eta0 : [0.124851, 0.114258, 0.107757, 0.103043, 0.101374, 0.0999699, 0.098756, 0.09768957, 0.0967371   ]\n",
    "\n",
    "\n",
    "xI_075 = np.array([320.517584, 220.4172329, 174.134771, 146.41503172, 137.638260 , 130.632996, 124.856198, 119.97502, 115.772043])\n",
    "#c_s : [0.01850484, 0.0433109, 0.07292425, 0.10634875, 0.121528, 0.1359761, 0.149821, 0.163158247, 0.176056 ]\n",
    "# eta0 : [0.1339829, 0.1232442, 0.1166647, 0.1119001, 0.11021518, 0.10879664, 0.10757213, 0.106495, 0.10553442 ]\n",
    "\n",
    "#anciennes valeurs (1/3)\n",
    "#xI_025 = np.array([174.134771, 119.9750, 94.9067, 79.8759, 75.1131, 71.310, 68.1733, 65.5219, 63.2383])\n",
    "#xI_05 = np.array([220.41723, 151.7423, 119.9750, 101.10, 95.05, 90.22, 86.24, 82.88, 79.98])# a calculer cas par cas\n",
    "#xI_075 = np.array([253.05327225, 174.1347710, 137.638260, 115.97,109.03,103.48,98.91,95.05,91.72])\n",
    "\n",
    "\n",
    "cs_025 = (2*(n*F)**3*uc/(3*jg_025*epss*epss0))**(-0.5)*(((xI_025*1e-09+R_)**3-R_**3)/R_**2)**(-0.5)\n",
    "cs_05 = (2*(n*F)**3*uc/(3*jg_05*epss*epss0))**(-0.5)*(((xI_05*1e-09+R_)**3-R_**3)/R_**2)**(-0.5)\n",
    "cs_075 = (2*(n*F)**3*uc/(3*jg_075*epss*epss0))**(-0.5)*(((xI_075*1e-09+R_)**3-R_**3)/R_**2)**(-0.5)\n",
    "\n",
    "\n",
    "eta0_025 = (RR*TT/(n*F))*np.log(cs_025/250.)\n",
    "eta0_05 = (RR*TT/(n*F))*np.log(cs_05/500.)\n",
    "eta0_075 = (RR*TT/(n*F))*np.log(cs_075/750.)\n",
    "\n",
    "plot(j/10,-eta0_025,'-kv',label=r'$c_0$ = 0.25 M')\n",
    "plot(j/10,-eta0_05,'-bs',label=r'$c_0$ = 0.50 M')\n",
    "plot(j/10,-eta0_075,'-ro',label=r'$c_0$ = 0.75 M')\n",
    "\n",
    "legend(loc='lower left',fontsize=18) \n",
    "\n",
    "xlabel(r'$j$ (mA/cm$^2$)',fontsize=20)\n",
    "ylabel(r'$-\\eta_0$ (V)',fontsize=20)\n",
    "\n",
    "xticks(fontsize=15)\n",
    "yticks(fontsize=15)\n",
    "\n",
    "#ylim(0.07,0.115)\n",
    "#xlim(0,350)\n"
   ]
  },
  {
   "cell_type": "markdown",
   "metadata": {},
   "source": [
    "# R_t standard = f(j)"
   ]
  },
  {
   "cell_type": "code",
   "execution_count": 77,
   "metadata": {},
   "outputs": [
    {
     "name": "stderr",
     "output_type": "stream",
     "text": [
      "/home/fabien/anaconda3/lib/python3.7/site-packages/ipykernel_launcher.py:74: RuntimeWarning: divide by zero encountered in true_divide\n"
     ]
    },
    {
     "data": {
      "text/plain": [
       "<matplotlib.legend.Legend at 0x7f37f103c210>"
      ]
     },
     "execution_count": 77,
     "metadata": {},
     "output_type": "execute_result"
    }
   ],
   "source": [
    "#j = np.array([40., 60., 80., 100., 120., ])\n",
    "\n",
    "\n",
    "j_075 = np.array([2.5, 5, 10])*0.001/(50*1e-06*7.5*0.01)/10  \n",
    "j_05 = np.array([1.75, 2.5, 5, 10])*0.001/(50*1e-06*7.5*0.01)/10 \n",
    "\n",
    "Rg_075 = np.array([274.4, 348.6, 208.9])\n",
    "Rg_05 = np.array([390.9, 435.7, 220.35, 134.9])\n",
    "\n",
    "R_inc_075 = np.array([75.93, 95.84, 40.17])\n",
    "R_inc_05 = np.array([164.45, 78.46, 60.28, 52.18])\n",
    "\n",
    "\n",
    "\n",
    "j_R = j_05[0:3]\n",
    "\n",
    "j = j_R*10\n",
    "\n",
    "#R_gg = np.array([390.9, (274.4+435.7)/2, (348.6+220.35)/2])\n",
    "R_gg = np.array([390.9, (274.4+435.7)/2, (444.38+159.58)/2])\n",
    "R_gg_inc = np.array([164.45, (512.-198.)/2, (444.38-159.58)/2 ])\n",
    "\n",
    "\n",
    "\n",
    "\n",
    "\n",
    "l = 2.\n",
    "\n",
    "tau = gamma*vm/(RR*TT)\n",
    "\n",
    "\n",
    "vg_05_ = (1-tc)*j/(n*F*500.)\n",
    "jg_05_ = (1./6.)*n*F*(rho/M)*vg_05_\n",
    "xI_chaz_05_ = 1e+09*((3./2.)*dV)**(2/3.)*(epss*epss0*n*F*uc/(2*jg_05_))**(1/3.)  \n",
    "c_s_chaz_05_ = (jg_05_*epss*epss0/(2*n*F*n*uc*F*F*n*1e-09*xI_chaz_05_))**0.5\n",
    "\n",
    "cs_05_ = np.exp(-0.336*xI_chaz_05_/R_gg)*c_s_chaz_05_\n",
    "R_c_stand_05 = l*(l+1)*tau/((500.-cs_05_)/cs_05_)\n",
    "\n",
    "cs_05_ = np.exp(-0.336*xI_chaz_05_/(R_gg+R_gg_inc))*c_s_chaz_05_\n",
    "R_c_stand_05_sup = l*(l+1)*tau/((500.-cs_05_)/cs_05_)\n",
    "\n",
    "cs_05_ = np.exp(-0.336*xI_chaz_05_/(R_gg-R_gg_inc))*c_s_chaz_05_\n",
    "R_c_stand_05_inf = l*(l+1)*tau/((500.-cs_05_)/cs_05_)\n",
    "\n",
    "err_05 = np.array([R_c_stand_05-R_c_stand_05_inf, -R_c_stand_05+R_c_stand_05_sup])\n",
    "\n",
    "\n",
    "#########\n",
    "\n",
    "vg_075_ = (1-tc)*j/(n*F*750.)\n",
    "jg_075_ = (1./6.)*n*F*(rho/M)*vg_075_\n",
    "xI_chaz_075_ = 1e+09*((3./2.)*dV)**(2/3.)*(epss*epss0*n*F*uc/(2*jg_075_))**(1/3.)  \n",
    "c_s_chaz_075_ = (jg_075_*epss*epss0/(2*n*F*n*uc*F*F*n*1e-09*xI_chaz_075_))**0.5\n",
    "\n",
    "cs_075_ = np.exp(-0.336*xI_chaz_075_/R_gg)*c_s_chaz_075_\n",
    "R_c_stand_075 = l*(l+1)*tau/((750.-cs_075_)/cs_075_)\n",
    "\n",
    "cs_075_ = np.exp(-0.336*xI_chaz_075_/(R_gg+R_gg_inc))*c_s_chaz_075_\n",
    "R_c_stand_075_sup = l*(l+1)*tau/((750.-cs_075_)/cs_075_)\n",
    "\n",
    "cs_075_ = np.exp(-0.336*xI_chaz_075_/(R_gg-R_gg_inc))*c_s_chaz_075_\n",
    "R_c_stand_075_inf = l*(l+1)*tau/((750.-cs_075_)/cs_075_)\n",
    "\n",
    "err_075 = np.array([R_c_stand_075-R_c_stand_075_inf, -R_c_stand_075+R_c_stand_075_sup])\n",
    "\n",
    "#####\n",
    "#figure()\n",
    "#plot(j/10,(((500.-cs_05_)/cs_05_)*333.89/(tau*1e+09))**0.5)\n",
    "#print(2*pi*333.089/(tau*1e+09*483))\n",
    "\n",
    "#####\n",
    "jj = np.linspace(0,82.1,200)\n",
    "Rg_fitted = 333.89*(82.1/jj)**0.713\n",
    "#####\n",
    "\n",
    "ll=arange(300.,1000.,100.)\n",
    "\n",
    "RR_ = ll*(1.16*tau*1e+09)/(2*np.pi)\n",
    "jj_ = (333.89/RR_)**(1/0.713)*82.1\n",
    "\n",
    "j_c0 = jj_*10/500.\n",
    "vg_ = (1-tc)*j_c0/(n*F)\n",
    "jg_ = (1./6.)*n*F*(rho/M)*vg_\n",
    "xI = 1e+09*((3./2.)*dV)**(2/3.)*(epss*epss0*n*F*uc/(2*jg_))**(1/3.)\n",
    "\n",
    "c_s_chaz_05_ll = (jg_*epss*epss0/(2*n*F*n*uc*F*F*n*1e-09*xI))**0.5\n",
    "\n",
    "cs_05_ll = np.exp(-0.336*xI/RR_)*c_s_chaz_05_ll\n",
    "R_c_stand_05_ll = ll*(ll+1)*tau/((500.-cs_05_ll)/cs_05_ll)\n",
    "\n",
    "###########\n",
    "\n",
    "\n",
    "\n",
    "\n",
    "figure(figsize=(9,8))\n",
    "\n",
    "errorbar(j_05,Rg_05,yerr=R_inc_05,fmt='ro',capsize=5,label=r'$R_g$, $c_0$ = 0.50 M')\n",
    "errorbar(j_075,Rg_075,yerr=R_inc_075,fmt='bs',capsize=5,label=r'$R_g$, $c_0$ = 0.75 M')\n",
    "\n",
    "errorbar(j/10,1e+09*R_c_stand_05,yerr=1e+09*err_05,fmt='-xb',capsize=5,label=r'$\\mathrm{min}(R_t)$, $c_0$ = 0.50 M')\n",
    "errorbar(j/10,1e+09*R_c_stand_075,yerr=1e+09*err_075,fmt='v-r',capsize=5,label=r'$\\mathrm{min}(R_t)$, $c_0$ = 0.75 M')\n",
    "\n",
    "#plot(jj_,1e+09*R_c_stand_05_ll,'ob')\n",
    "#for i in range(jj_.size):\n",
    "#    text(jj_[i]+1,1e+09*R_c_stand_05_ll[i],str(int(ll[i])))\n",
    "\n",
    "#plot(jj,Rg_fitted,'-.r',label=r'$R_g = 333.89 (j_c(0.5 \\ \\mathrm{M})/j)^{0.713}$')\n",
    "\n",
    "plot([82.1, 82.1],[0.001, 5000],'-k',label=r'$j_c$, $c_0$ = 0.50 M')\n",
    "plot([92.3, 92.3],[0.001, 5000],'--k',label=r'$j_c$, $c_0$ = 0.75 M')\n",
    "\n",
    "ylim(0.003,600)\n",
    "xlim(30,150)\n",
    "\n",
    "yscale('log')\n",
    "\n",
    "\n",
    "xlabel(r'$j$ (mA/cm$^2$)',fontsize=20)\n",
    "ylabel(r'Particle size (nm)',fontsize=20)\n",
    "\n",
    "xticks(fontsize=15)\n",
    "yticks(fontsize=15)\n",
    "\n",
    "legend(loc='center right',fontsize=15) \n"
   ]
  },
  {
   "cell_type": "markdown",
   "metadata": {},
   "source": [
    "\n",
    "# Rt = xI(T) "
   ]
  },
  {
   "cell_type": "code",
   "execution_count": 10,
   "metadata": {},
   "outputs": [
    {
     "ename": "NameError",
     "evalue": "name 'xI_chaz_05_' is not defined",
     "output_type": "error",
     "traceback": [
      "\u001b[0;31m---------------------------------------------------------------------------\u001b[0m",
      "\u001b[0;31mNameError\u001b[0m                                 Traceback (most recent call last)",
      "\u001b[0;32m<ipython-input-10-f1813ccda840>\u001b[0m in \u001b[0;36m<module>\u001b[0;34m\u001b[0m\n\u001b[1;32m      7\u001b[0m \u001b[0;34m\u001b[0m\u001b[0m\n\u001b[1;32m      8\u001b[0m \u001b[0;34m\u001b[0m\u001b[0m\n\u001b[0;32m----> 9\u001b[0;31m \u001b[0mRt_05_\u001b[0m\u001b[0;34m=\u001b[0m\u001b[0mxI_chaz_05_\u001b[0m\u001b[0;34m+\u001b[0m\u001b[0;36m2\u001b[0m\u001b[0;34m*\u001b[0m\u001b[0;36m1e+09\u001b[0m\u001b[0;34m*\u001b[0m\u001b[0mtau\u001b[0m\u001b[0;34m*\u001b[0m\u001b[0;34m(\u001b[0m\u001b[0ml\u001b[0m\u001b[0;34m+\u001b[0m\u001b[0;36m2\u001b[0m\u001b[0;34m)\u001b[0m\u001b[0;34m*\u001b[0m\u001b[0;34m(\u001b[0m\u001b[0ml\u001b[0m\u001b[0;34m-\u001b[0m\u001b[0;36m1\u001b[0m\u001b[0;34m)\u001b[0m\u001b[0;34m\u001b[0m\u001b[0;34m\u001b[0m\u001b[0m\n\u001b[0m\u001b[1;32m     10\u001b[0m \u001b[0;34m\u001b[0m\u001b[0m\n\u001b[1;32m     11\u001b[0m \u001b[0mRt_05_2\u001b[0m \u001b[0;34m=\u001b[0m \u001b[0mxI_chaz_05_\u001b[0m\u001b[0;34m*\u001b[0m\u001b[0;36m0.5\u001b[0m\u001b[0;34m*\u001b[0m\u001b[0;34m(\u001b[0m\u001b[0;36m1\u001b[0m\u001b[0;34m+\u001b[0m\u001b[0;34m(\u001b[0m\u001b[0;34m(\u001b[0m\u001b[0;36m1\u001b[0m\u001b[0;34m-\u001b[0m\u001b[0;36m2\u001b[0m\u001b[0;34m*\u001b[0m\u001b[0mtau\u001b[0m\u001b[0;34m/\u001b[0m\u001b[0;34m(\u001b[0m\u001b[0mxI_chaz_05_\u001b[0m\u001b[0;34m*\u001b[0m\u001b[0;36m1e-09\u001b[0m\u001b[0;34m)\u001b[0m\u001b[0;34m)\u001b[0m\u001b[0;34m**\u001b[0m\u001b[0;36m2\u001b[0m\u001b[0;34m+\u001b[0m\u001b[0;36m8\u001b[0m\u001b[0;34m*\u001b[0m\u001b[0;34m(\u001b[0m\u001b[0;36m1\u001b[0m\u001b[0;34m+\u001b[0m\u001b[0;34m(\u001b[0m\u001b[0ml\u001b[0m\u001b[0;34m+\u001b[0m\u001b[0;36m2\u001b[0m\u001b[0;34m)\u001b[0m\u001b[0;34m*\u001b[0m\u001b[0;34m(\u001b[0m\u001b[0ml\u001b[0m\u001b[0;34m-\u001b[0m\u001b[0;36m1\u001b[0m\u001b[0;34m)\u001b[0m\u001b[0;34m*\u001b[0m\u001b[0;34m(\u001b[0m\u001b[0mtau\u001b[0m\u001b[0;34m/\u001b[0m\u001b[0;34m(\u001b[0m\u001b[0;36m1e-09\u001b[0m\u001b[0;34m*\u001b[0m\u001b[0mxI_chaz_05_\u001b[0m\u001b[0;34m)\u001b[0m\u001b[0;34m)\u001b[0m\u001b[0;34m)\u001b[0m\u001b[0;34m)\u001b[0m\u001b[0;34m**\u001b[0m\u001b[0;36m0.5\u001b[0m\u001b[0;34m)\u001b[0m\u001b[0;34m-\u001b[0m\u001b[0mtau\u001b[0m\u001b[0;34m\u001b[0m\u001b[0;34m\u001b[0m\u001b[0m\n",
      "\u001b[0;31mNameError\u001b[0m: name 'xI_chaz_05_' is not defined"
     ]
    }
   ],
   "source": [
    "l = 2.\n",
    "\n",
    "\n",
    "\n",
    "\n",
    "\n",
    "\n",
    "\n",
    "Rt_05_=xI_chaz_05_+2*1e+09*tau*(l+2)*(l-1)\n",
    "\n",
    "Rt_05_2 = xI_chaz_05_*0.5*(1+((1-2*tau/(xI_chaz_05_*1e-09))**2+8*(1+(l+2)*(l-1)*(tau/(1e-09*xI_chaz_05_))))**0.5)-tau\n",
    "\n",
    "Rt_075_=xI_chaz_075_+2*1e+09*tau*(l+2)*(l-1)\n",
    "\n",
    "print (tau)\n",
    "\n",
    "figure(figsize=(9,8))\n",
    "\n",
    "\n",
    "plot(j/10,Rt_05_ ,'-xb')\n",
    "plot(j/10,Rt_05_2 ,'-xg')\n",
    "plot(j/10,Rt_075_ ,'v-r')\n",
    "\n",
    "errorbar(j_05,Rg_05,yerr=R_inc_05,fmt='ro',capsize=5,label=r'$R_g$, $c_0$ = 0.50 M')\n",
    "errorbar(j_075,Rg_075,yerr=R_inc_075,fmt='bs',capsize=5,label=r'$R_g$, $c_0$ = 0.75 M')\n",
    "\n",
    "plot([82.1, 82.1],[0.001, 5000],'-k',label=r'$j_c$, $c_0$ = 0.50 M')\n",
    "plot([92.3, 92.3],[0.001, 5000],'--k',label=r'$j_c$, $c_0$ = 0.75 M')\n",
    "\n",
    "ylim(0,650)\n",
    "xlim(25,175)"
   ]
  },
  {
   "cell_type": "markdown",
   "metadata": {},
   "source": [
    "# Rt = xI(T) II (premier ordre en delta uniquement)"
   ]
  },
  {
   "cell_type": "code",
   "execution_count": 51,
   "metadata": {},
   "outputs": [
    {
     "name": "stdout",
     "output_type": "stream",
     "text": [
      "[333.88879166   0.71340853]\n",
      "69.99823033382019\n",
      "3.7463317504767314e-09 [127.98171797 113.63547953  90.19253987] [ 466.66666667  666.66666667 1333.33333333]\n",
      "21.794561595454663\n"
     ]
    },
    {
     "name": "stderr",
     "output_type": "stream",
     "text": [
      "/home/fabien/anaconda3/lib/python3.7/site-packages/ipykernel_launcher.py:54: RuntimeWarning: divide by zero encountered in true_divide\n",
      "/home/fabien/anaconda3/lib/python3.7/site-packages/ipykernel_launcher.py:61: RuntimeWarning: divide by zero encountered in true_divide\n",
      "/home/fabien/anaconda3/lib/python3.7/site-packages/ipykernel_launcher.py:76: RuntimeWarning: divide by zero encountered in true_divide\n",
      "/home/fabien/anaconda3/lib/python3.7/site-packages/ipykernel_launcher.py:76: RuntimeWarning: divide by zero encountered in true_divide\n"
     ]
    },
    {
     "data": {
      "text/plain": [
       "<matplotlib.legend.Legend at 0x7f37f757e610>"
      ]
     },
     "execution_count": 51,
     "metadata": {},
     "output_type": "execute_result"
    }
   ],
   "source": [
    "l = 8.\n",
    "\n",
    "\n",
    "\n",
    "\n",
    "Rt_05_=xI_chaz_05_*0.5*(1+((1-2*tau/(xI_chaz_05_*1e-09))**2+8*(1+(l+2)*(l-1)*(tau/(1e-09*xI_chaz_05_))))**0.5)-tau\n",
    "Rt_075_=xI_chaz_075_*0.5*(1+((1-2*tau/(xI_chaz_075_*1e-09))**2+8*(1+(l+2)*(l-1)*(tau/(1e-09*xI_chaz_075_))))**0.5)-tau\n",
    "\n",
    "#l=2.\n",
    "l = (2*np.pi*323*(80/66.67))/(60.13*tau*1e+09)\n",
    "Rt_05_l1=xI_chaz_05_*0.5*(1+((1-2*tau/(xI_chaz_05_*1e-09))**2+8*(1+(l+2)*(l-1)*(tau/(1e-09*xI_chaz_05_))))**0.5)-tau\n",
    "Rt_075_l1=xI_chaz_075_*0.5*(1+((1-2*tau/(xI_chaz_075_*1e-09))**2+8*(1+(l+2)*(l-1)*(tau/(1e-09*xI_chaz_075_))))**0.5)-tau\n",
    "\n",
    "\n",
    "#l=20.\n",
    "l = (2*np.pi*323*(80/46.67))/(60.13*tau*1e+09)\n",
    "Rt_05_l2=xI_chaz_05_*0.5*(1+((1-2*tau/(xI_chaz_05_*1e-09))**2+8*(1+(l+2)*(l-1)*(tau/(1e-09*xI_chaz_05_))))**0.5)-tau\n",
    "Rt_075_l2=xI_chaz_075_*0.5*(1+((1-2*tau/(xI_chaz_075_*1e-09))**2+8*(1+(l+2)*(l-1)*(tau/(1e-09*xI_chaz_075_))))**0.5)-tau\n",
    "\n",
    "\n",
    "popt05, pcov = curve_fit(func_adjust_Rg05, j_05[0:-1], Rg_05[0:-1],p0=[300, 1.],sigma=R_inc_05[0:-1])\n",
    "print (popt05)\n",
    "jj = np.linspace(0,160,100)\n",
    "\n",
    "ll=np.array([4,5,6,7,8,9.,10.,11.,12,13,14,15.,16,17.])\n",
    "\n",
    "\n",
    "vg__ = (1-tc)*82.1*10/(n*F*500.)\n",
    "jg__ = (1./6.)*n*F*(rho/M)*vg__\n",
    "xI__ = 1e+09*((3./2.)*dV)**(2/3.)*(epss*epss0*n*F*uc/(2*(jg__)))**(1/3.)  \n",
    "RR_ll__=xI__*0.5*(1+((1-2*tau/(xI__*1e-09))**2+8*(1+(ll+2)*(ll-1)*(tau/(1e-09*xI__))))**0.5)-tau\n",
    "#plot(ll,RR_ll__,'.')\n",
    "# l=8 pour Rt = Rg = 333.89 nm\n",
    "\n",
    "alphaa = 2*np.pi*333.89*1e-09/(tau*8)\n",
    "print (alphaa)\n",
    "#alphaa = 70.00\n",
    "\n",
    "RR_ = ll*(70.*tau*1e+09)/(2*np.pi)\n",
    "jj_ = (333.89/RR_)**(1/0.713)*82.1\n",
    "\n",
    "j_c0 = jj_*10/500.\n",
    "vg_ = (1-tc)*j_c0/(n*F)\n",
    "jg_ = (1./6.)*n*F*(rho/M)*vg_\n",
    "xI = 1e+09*((3./2.)*dV)**(2/3.)*(epss*epss0*n*F*uc/(2*jg_))**(1/3.)  \n",
    "\n",
    "Rt_05_ll=xI*0.5*(1+((1-2*tau/(xI*1e-09))**2+8*(1+(ll+2)*(ll-1)*(tau/(1e-09*xI))))**0.5)-tau\n",
    "\n",
    "\n",
    "l = 8.\n",
    "j_c0 = jj*10/500.\n",
    "vg_ = (1-tc)*j_c0/(n*F)\n",
    "jg_ = (1./6.)*n*F*(rho/M)*vg_\n",
    "xI = 1e+09*((3./2.)*dV)**(2/3.)*(epss*epss0*n*F*uc/(2*jg_))**(1/3.)  \n",
    "Rt_05_ll_simple=xI*0.5*(1+((1-2*tau/(xI*1e-09))**2+8*(1+(l+2)*(l-1)*(tau/(1e-09*xI))))**0.5)-tau\n",
    "\n",
    "l = 8.\n",
    "j_c0 = jj*10/750.\n",
    "vg_ = (1-tc)*j_c0/(n*F)\n",
    "jg_ = (1./6.)*n*F*(rho/M)*vg_\n",
    "xI = 1e+09*((3./2.)*dV)**(2/3.)*(epss*epss0*n*F*uc/(2*jg_))**(1/3.)  \n",
    "Rt_075_ll_simple=xI*0.5*(1+((1-2*tau/(xI*1e-09))**2+8*(1+(l+2)*(l-1)*(tau/(1e-09*xI))))**0.5)-tau\n",
    "\n",
    "Rg05_fitted = func_adjust_Rg05(jj, *popt05)\n",
    "\n",
    "\n",
    "\n",
    "print (tau, xI_chaz_05_,j)\n",
    "print (2*np.pi*200*1e-09/(2*tau)/(np.pi*6**0.5))\n",
    "\n",
    "\n",
    "\n",
    "figure(figsize=(9,8))\n",
    "\n",
    "errorbar(j_05,Rg_05,yerr=R_inc_05,fmt='ro',capsize=5,label=r'$R_g$, $c_0$ = 0.50 M')\n",
    "errorbar(j_075,Rg_075,yerr=R_inc_075,fmt='bs',capsize=5,label=r'$R_g$, $c_0$ = 0.75 M')\n",
    "\n",
    "plot(jj,Rt_05_ll_simple,'-r',label=r'$\\mathrm{max}(R_t(8))$, $c_0$ = 0.50 M')\n",
    "plot(jj_,Rt_05_ll,'Dr',label=r'$\\mathrm{max}(R_t(l_M))$, $c_0$ = 0.50 M')\n",
    "plot(jj,Rt_075_ll_simple,'-b',label=r'$\\mathrm{max}(R_t(8))$, $c_0$ = 0.75 M')\n",
    "\n",
    "for i in range(jj_.size):\n",
    "    text(jj_[i]+1,Rt_05_ll[i]+10,str(int(ll[i])))\n",
    "\n",
    "plot(jj[0:52], func_adjust_Rg05(jj[0:52], *popt05),'-.r',label=r'$R_g = 333.89 (j_c(0.5 \\ \\mathrm{M})/j)^{0.713}$')\n",
    "\n",
    "\n",
    "#plot(j/10,Rt_05_ ,'-xb')\n",
    "#plot(j/10,Rt_075_ ,'v-r')\n",
    "\n",
    "#plot(j/10,np.array([Rt_05_l2[0], Rt_05_l1[1], Rt_05_[2]]),'--b')\n",
    "#plot(j/10,np.array([Rt_075_l2[0], Rt_075_l1[1], Rt_075_[2]]),'--r')\n",
    "\n",
    "#plot(jj, func_adjust_Rg05(jj, *popt05),'-.r',label=r'$R_g$, $c_0$ = 0.50 M, fitted by $333.89(j_c/j)^{0.713}$')\n",
    "\n",
    "\n",
    "\n",
    "\n",
    "plot([82.1, 82.1],[0.001, 5000],'-k',label=r'$j_c$, $c_0$ = 0.50 M')\n",
    "plot([92.3, 92.3],[0.001, 5000],'--k',label=r'$j_c$, $c_0$ = 0.75 M')\n",
    "\n",
    "ylim(0,800)\n",
    "xlim(25,165)\n",
    "\n",
    "\n",
    "\n",
    "xlabel(r'$j$ (mA/cm$^2$)',fontsize=20)\n",
    "ylabel(r'Particle size (nm)',fontsize=20)\n",
    "\n",
    "xticks(fontsize=15)\n",
    "yticks(fontsize=15)\n",
    "\n",
    "legend(loc='upper right',fontsize=15) \n",
    "\n",
    "#figure()\n",
    "#plot(jj, func_adjust_Rg05(jj, *popt05),'-.b',label=r'$R_g = 333.89 (j_c(0.5 \\ \\mathrm{M})/j)^{0.713}$')\n",
    "#plot(jj_,Rt_05_ll,'Dr',label=r'$\\mathrm{max}(R_t(l_M))$, $c_0$ = 0.50 M')\n",
    "\n"
   ]
  },
  {
   "cell_type": "code",
   "execution_count": 56,
   "metadata": {},
   "outputs": [
    {
     "name": "stderr",
     "output_type": "stream",
     "text": [
      "/home/fabien/anaconda3/lib/python3.7/site-packages/ipykernel_launcher.py:76: RuntimeWarning: divide by zero encountered in true_divide\n"
     ]
    },
    {
     "data": {
      "text/plain": [
       "<matplotlib.legend.Legend at 0x7f7f0393f890>"
      ]
     },
     "execution_count": 56,
     "metadata": {},
     "output_type": "execute_result"
    }
   ],
   "source": [
    "#inset\n",
    "figure(figsize=(9,8))\n",
    "plot(jj[0:52], func_adjust_Rg05(jj[0:52], *popt05),'-.k',label=r'$R_g = 333.89 (j_c/j)^{0.713}$')\n",
    "plot(jj_[4::],Rt_05_ll[4::],'Dr',label=r'$R_t(l_M)$, $c_0$ = 0.50 M')\n",
    "\n",
    "for i in range(jj_[3::].size):\n",
    "    text(jj_[i+3]+1,Rt_05_ll[i+3]+10,str(int(ll[i+3])),fontsize=25)\n",
    "\n",
    "ylim(200,750)\n",
    "xlim(25,100)\n",
    "\n",
    "\n",
    "\n",
    "xlabel(r'$j$ (mA/cm$^2$)',fontsize=30)\n",
    "ylabel(r'$R$ (nm)',fontsize=30)\n",
    "\n",
    "xticks(fontsize=25)\n",
    "yticks(fontsize=25)\n",
    "legend(loc='upper right',fontsize=25) "
   ]
  },
  {
   "cell_type": "markdown",
   "metadata": {},
   "source": [
    "## Avec Rg_fitted"
   ]
  },
  {
   "cell_type": "code",
   "execution_count": 29,
   "metadata": {},
   "outputs": [
    {
     "name": "stdout",
     "output_type": "stream",
     "text": [
      "[333.88879166   0.71340853]\n",
      "69.99823033382019\n",
      "3.7463317504767314e-09 [127.98171797 113.63547953  90.19253987] [ 466.66666667  666.66666667 1333.33333333]\n",
      "21.794561595454663\n"
     ]
    },
    {
     "name": "stderr",
     "output_type": "stream",
     "text": [
      "/home/fabien/anaconda3/lib/python3.7/site-packages/ipykernel_launcher.py:58: RuntimeWarning: divide by zero encountered in true_divide\n",
      "/home/fabien/anaconda3/lib/python3.7/site-packages/ipykernel_launcher.py:65: RuntimeWarning: divide by zero encountered in true_divide\n",
      "/home/fabien/anaconda3/lib/python3.7/site-packages/ipykernel_launcher.py:76: RuntimeWarning: divide by zero encountered in true_divide\n",
      "/home/fabien/anaconda3/lib/python3.7/site-packages/ipykernel_launcher.py:76: RuntimeWarning: divide by zero encountered in true_divide\n"
     ]
    },
    {
     "data": {
      "text/plain": [
       "[<matplotlib.lines.Line2D at 0x7fa4532349d0>]"
      ]
     },
     "execution_count": 29,
     "metadata": {},
     "output_type": "execute_result"
    }
   ],
   "source": [
    "l = 8.\n",
    "\n",
    "\n",
    "\n",
    "\n",
    "Rt_05_=xI_chaz_05_*0.5*(1+((1-2*tau/(xI_chaz_05_*1e-09))**2+8*(1+(l+2)*(l-1)*(tau/(1e-09*xI_chaz_05_))))**0.5)-tau\n",
    "Rt_075_=xI_chaz_075_*0.5*(1+((1-2*tau/(xI_chaz_075_*1e-09))**2+8*(1+(l+2)*(l-1)*(tau/(1e-09*xI_chaz_075_))))**0.5)-tau\n",
    "\n",
    "#l=2.\n",
    "l = (2*np.pi*323*(80/66.67))/(60.13*tau*1e+09)\n",
    "Rt_05_l1=xI_chaz_05_*0.5*(1+((1-2*tau/(xI_chaz_05_*1e-09))**2+8*(1+(l+2)*(l-1)*(tau/(1e-09*xI_chaz_05_))))**0.5)-tau\n",
    "Rt_075_l1=xI_chaz_075_*0.5*(1+((1-2*tau/(xI_chaz_075_*1e-09))**2+8*(1+(l+2)*(l-1)*(tau/(1e-09*xI_chaz_075_))))**0.5)-tau\n",
    "\n",
    "\n",
    "#l=20.\n",
    "l = (2*np.pi*323*(80/46.67))/(60.13*tau*1e+09)\n",
    "Rt_05_l2=xI_chaz_05_*0.5*(1+((1-2*tau/(xI_chaz_05_*1e-09))**2+8*(1+(l+2)*(l-1)*(tau/(1e-09*xI_chaz_05_))))**0.5)-tau\n",
    "Rt_075_l2=xI_chaz_075_*0.5*(1+((1-2*tau/(xI_chaz_075_*1e-09))**2+8*(1+(l+2)*(l-1)*(tau/(1e-09*xI_chaz_075_))))**0.5)-tau\n",
    "\n",
    "\n",
    "\n",
    "\n",
    "\n",
    "popt05, pcov = curve_fit(func_adjust_Rg05, j_05[0:-1], Rg_05[0:-1],p0=[300, 1.],sigma=R_inc_05[0:-1])\n",
    "print (popt05)\n",
    "jj = np.linspace(0,160,100)\n",
    "\n",
    "ll=np.array([4,5,6,7,8,9.,10.,11.,12,13,14,15.,16,17.])\n",
    "\n",
    "\n",
    "figure()\n",
    "vg__ = (1-tc)*82.1*10/(n*F*500.)\n",
    "jg__ = (1./6.)*n*F*(rho/M)*vg__\n",
    "xI__ = 1e+09*((3./2.)*dV)**(2/3.)*(epss*epss0*n*F*uc/(2*(jg__)))**(1/3.)  \n",
    "RR_ll__=xI__*0.5*(1+((1-2*tau/(xI__*1e-09))**2+8*(1+(ll+2)*(ll-1)*(tau/(1e-09*xI__))))**0.5)-tau\n",
    "plot(ll,RR_ll__,'.')\n",
    "# l=8 pour Rt = Rg = 333.89 nm\n",
    "\n",
    "alphaa = 2*np.pi*333.89*1e-09/(tau*8)\n",
    "print (alphaa)\n",
    "#alphaa = 70.00\n",
    "\n",
    "RR_ = ll*(70.*tau*1e+09)/(2*np.pi)\n",
    "jj_ = (333.89/RR_)**(1/0.713)*82.1\n",
    "\n",
    "j_c0 = jj_*10/500.\n",
    "vg_ = (1-tc)*j_c0/(n*F)\n",
    "jg_ = (1./6.)*n*F*(rho/M)*vg_\n",
    "xI = 1e+09*((3./2.)*dV)**(2/3.)*(epss*epss0*n*F*uc/(2*jg_))**(1/3.)  \n",
    "\n",
    "Rt_05_ll=xI*0.5*(1+((1-2*tau/(xI*1e-09))**2+8*(1+(ll+2)*(ll-1)*(tau/(1e-09*xI))))**0.5)-tau\n",
    "\n",
    "\n",
    "l = 8.\n",
    "j_c0 = jj*10/500.\n",
    "vg_ = (1-tc)*j_c0/(n*F)\n",
    "jg_ = (1./6.)*n*F*(rho/M)*vg_\n",
    "xI = 1e+09*((3./2.)*dV)**(2/3.)*(epss*epss0*n*F*uc/(2*jg_))**(1/3.)  \n",
    "Rt_05_ll_simple=xI*0.5*(1+((1-2*tau/(xI*1e-09))**2+8*(1+(l+2)*(l-1)*(tau/(1e-09*xI))))**0.5)-tau\n",
    "\n",
    "l = 8.\n",
    "j_c0 = jj*10/750.\n",
    "vg_ = (1-tc)*j_c0/(n*F)\n",
    "jg_ = (1./6.)*n*F*(rho/M)*vg_\n",
    "xI = 1e+09*((3./2.)*dV)**(2/3.)*(epss*epss0*n*F*uc/(2*jg_))**(1/3.)  \n",
    "Rt_075_ll_simple=xI*0.5*(1+((1-2*tau/(xI*1e-09))**2+8*(1+(l+2)*(l-1)*(tau/(1e-09*xI))))**0.5)-tau\n",
    "\n",
    "Rg05_fitted = func_adjust_Rg05(jj, *popt05)\n",
    "\n",
    "\n",
    "\n",
    "print (tau, xI_chaz_05_,j)\n",
    "print (2*np.pi*200*1e-09/(2*tau)/(np.pi*6**0.5))\n",
    "\n",
    "\n",
    "\n",
    "figure(figsize=(9,8))\n",
    "\n",
    "errorbar(j_05,Rg_05,yerr=R_inc_05,fmt='ro',capsize=5,label=r'$R_g$, $c_0$ = 0.50 M')\n",
    "errorbar(j_075,Rg_075,yerr=R_inc_075,fmt='bs',capsize=5,label=r'$R_g$, $c_0$ = 0.75 M')\n",
    "\n",
    "plot(jj,Rt_05_ll_simple,'-r',label=r'$R_t(l=8)$, $c_0$ = 0.50 M')\n",
    "plot(jj_,Rt_05_ll,'Dr',label=r'$R_t(l_M)$, $c_0$ = 0.50 M')\n",
    "plot(jj,Rt_075_ll_simple,'-b',label=r'$R_t(l=8)$, $c_0$ = 0.75 M')\n",
    "\n",
    "for i in range(jj_.size):\n",
    "    text(jj_[i]+1,Rt_05_ll[i]+10,str(int(ll[i])))\n",
    "\n",
    "\n",
    "jj = np.linspace(0,150,100)\n",
    "#plot(jj, func_adjust_Rg075(jj, *popt075),'g')\n",
    "plot(jj, func_adjust_Rg05(jj, *popt05),'-.r',label=r'$R_g$ fitted by ${R_g}_c(j_c/j)^{N}$')\n",
    "#plot(j/10,Rt_05_ ,'-xb')\n",
    "#plot(j/10,Rt_075_ ,'v-r')\n",
    "\n",
    "#plot(j/10,np.array([Rt_05_l2[0], Rt_05_l1[1], Rt_05_[2]]),'--b')\n",
    "#plot(j/10,np.array([Rt_075_l2[0], Rt_075_l1[1], Rt_075_[2]]),'--r')\n",
    "\n",
    "#plot(jj, func_adjust_Rg05(jj, *popt05),'-.r',label=r'$R_g$, $c_0$ = 0.50 M, fitted by $333.89(j_c/j)^{0.713}$')\n",
    "\n",
    "\n",
    "\n",
    "\n",
    "plot([82.1, 82.1],[0.001, 5000],'-k',label=r'$j_c$, $c_0$ = 0.50 M')\n",
    "plot([92.3, 92.3],[0.001, 5000],'--k',label=r'$j_c$, $c_0$ = 0.75 M')\n",
    "\n",
    "ylim(0,750)\n",
    "xlim(25,165)\n",
    "\n",
    "\n",
    "\n",
    "xlabel(r'$j$ (mA/cm$^2$)',fontsize=20)\n",
    "ylabel(r'$R$ (nm)',fontsize=20)\n",
    "\n",
    "xticks(fontsize=15)\n",
    "yticks(fontsize=15)\n",
    "\n",
    "legend(loc='upper right',fontsize=15) \n",
    "\n",
    "\n",
    "figure()\n",
    "plot(jj_,Rt_05_ll-func_adjust_Rg05(jj_, *popt05),'r',label=r'$R_t(l_M)$, $c_0$ = 0.50 M')"
   ]
  },
  {
   "cell_type": "code",
   "execution_count": 14,
   "metadata": {},
   "outputs": [
    {
     "name": "stdout",
     "output_type": "stream",
     "text": [
      "alpha= 60.1324104954\n"
     ]
    }
   ],
   "source": [
    "ll = np.linspace(0,30,100)\n",
    "\n",
    "RRRtt = 92.5*1e-09*0.5*(1+((1-2*tau/(92.5*1e-09))**2+8*(1+(ll+2)*(ll-1)*(tau/(92.5*1e-09))))**0.5)-tau\n",
    "\n",
    "figure()\n",
    "\n",
    "plot(ll,RRRtt)\n",
    "plot([0, 30],[323*1e-09, 323*1e-09])\n",
    "\n",
    "print 'alpha=', 2*np.pi*323*1e-09/(3.75*1e-09*9)"
   ]
  },
  {
   "cell_type": "markdown",
   "metadata": {
    "collapsed": true
   },
   "source": [
    "# comp termes dV"
   ]
  },
  {
   "cell_type": "code",
   "execution_count": 24,
   "metadata": {},
   "outputs": [
    {
     "name": "stderr",
     "output_type": "stream",
     "text": [
      "/home/fabien/.local/lib/python2.7/site-packages/ipykernel_launcher.py:38: RuntimeWarning: invalid value encountered in sqrt\n"
     ]
    },
    {
     "data": {
      "text/plain": [
       "(0.9, 1.1)"
      ]
     },
     "execution_count": 24,
     "metadata": {},
     "output_type": "execute_result"
    }
   ],
   "source": [
    "j_c0 = np.array([0.4, 3.05, 5.7, 8.35, 11.])\n",
    "\n",
    "R_ = np.array([25., 50., 100., 150., 250., 350., 450., 550])\n",
    "\n",
    "xI_ = np.zeros((5,8))\n",
    "cs_ = np.zeros((5,8))\n",
    "\n",
    "#xI_chaz = np.zeros((5,8))\n",
    "#cs_chaz = np.zeros((5,8))\n",
    "\n",
    "\n",
    "xI_[0,:]=[145.50, 143.62, 141.28, 139.91, 138.37, 137.53, 137.01, 136.64]\n",
    "xI_[1,:]=[73.00, 71.81, 70.65,70.08, 69.52, 69.25,  69.09, 68.98]\n",
    "xI_[2,:]=[58.98, 58.00, 57.11, 56.69, 56.30, 56.11, 56.00, 55.93]\n",
    "xI_[3,:]=[51.78, 50.91, 50.16, 49.82, 49.50,  49.35, 49.26, 49.21]\n",
    "xI_[4,:]=[47.13, 46.34, 45.68, 45.39, 45.12, 44.99, 44.92, 44.87]\n",
    "\n",
    "cs_[0,:]=[0.0337, 0.0560, 0.0829, 0.09799, 0.1142, 0.1226, 0.128, 0.1312]\n",
    "cs_[1,:]=[0.2147, 0.3185, 0.4148, 0.4596, 0.5012, 0.5211, 0.5327, 0.5403]\n",
    "cs_[2,:]=[0.3719, 0.5303, 0.666, 0.7256, 0.7800, 0.8054, 0.8201, 0.8297]\n",
    "cs_[3,:]=[0.5171, 0.7196, 0.8853, 0.9560, 1.0196,  1.0490, 1.0660, 1.0770]\n",
    "cs_[4,:]=[0.6543, 0.8947, 1.0852, 1.1650, 1.2360, 1.2686, 1.2873, 1.299]\n",
    "\n",
    "\n",
    "\n",
    "\n",
    "\n",
    "vg_ = (1-tc)*j_c0/(n*F)\n",
    "jg_ = (1./3.)*n*F*(rho/M)*vg_\n",
    "xI_chaz_ = 1e+09*((3./2.)*dV)**(2/3.)*(epss*epss0*n*F*uc/(2*jg_))**(1/3.)  \n",
    "c_s_chaz_ = (jg_*epss*epss0/(2*n*F*n*uc*F*F*n*1e-09*xI_chaz_))**0.5\n",
    "\n",
    "term_sph = np.zeros((j_c0.size,R_.size))\n",
    "\n",
    "for j in range(R_.size):\n",
    "    for i in range(j_c0.size):\n",
    "        x = 1e-09*np.arange(R_[j],R_[j]+xI_[i,j],xI_[i,j]/1000.)\n",
    "        y = ((1e-09*xI_[i,j]+1e-09*R_[j])**3-x**3)**0.5/x**2\n",
    "        term_sph[i,j] = 1e-09*R_[j]*simps(y,x)*(2*jg_[i]/(3*n*F*uc*epss*epss0))**0.5\n",
    "        \n",
    "term_1D = (2./3.)*(2*jg_/(epss*epss0*n*F*uc))**0.5*(xI_chaz_*1e-09)**(3./2.)\n",
    "\n",
    "figure()\n",
    "plot(j_c0, term_1D)\n",
    "plot(j_c0, term_sph[:,0])\n",
    "plot(j_c0, term_sph[:,1])\n",
    "plot(j_c0, term_sph[:,2])\n",
    "plot(j_c0, term_sph[:,3])\n",
    "plot(j_c0, term_sph[:,4])\n",
    "plot(j_c0, term_sph[:,5])\n",
    "plot(j_c0, term_sph[:,6])\n",
    "\n",
    "ylim(0.9, 1.1)\n"
   ]
  },
  {
   "cell_type": "code",
   "execution_count": 7,
   "metadata": {},
   "outputs": [
    {
     "name": "stdout",
     "output_type": "stream",
     "text": [
      "[[-0.12579473 -0.10552663 -0.07939372 -0.06349297         nan -0.03509127\n",
      "  -0.02866043 -0.02421762]\n",
      " [        nan -0.08004239 -0.05341007 -0.04000309 -0.02660648 -0.01992901\n",
      "          nan         nan]\n",
      " [-0.09869198 -0.07178752 -0.04621522 -0.03404693 -0.02225536 -0.0165307\n",
      "  -0.01317687 -0.01094429]\n",
      " [-0.09395558 -0.06679949 -0.04214444 -0.03074444 -0.01994152         nan\n",
      "  -0.01171515         nan]\n",
      " [-0.09044721 -0.06325419         nan -0.0285173  -0.01836223 -0.01354289\n",
      "  -0.0107283  -0.00888156]]\n"
     ]
    },
    {
     "name": "stderr",
     "output_type": "stream",
     "text": [
      "/home/fabien/.local/lib/python2.7/site-packages/ipykernel_launcher.py:38: RuntimeWarning: invalid value encountered in sqrt\n"
     ]
    }
   ],
   "source": [
    "j_c0 = np.array([0.4, 3.05, 5.7, 8.35, 11.])\n",
    "\n",
    "R_ = np.array([25., 50., 100., 150., 250., 350., 450., 550])\n",
    "\n",
    "xI_ = np.zeros((5,8))\n",
    "cs_ = np.zeros((5,8))\n",
    "\n",
    "#xI_chaz = np.zeros((5,8))\n",
    "#cs_chaz = np.zeros((5,8))\n",
    "\n",
    "\n",
    "xI_[0,:]=[145.50, 143.62, 141.28, 139.91, 138.37, 137.53, 137.01, 136.64]\n",
    "xI_[1,:]=[73.00, 71.81, 70.65,70.08, 69.52, 69.25,  69.09, 68.98]\n",
    "xI_[2,:]=[58.98, 58.00, 57.11, 56.69, 56.30, 56.11, 56.00, 55.93]\n",
    "xI_[3,:]=[51.78, 50.91, 50.16, 49.82, 49.50,  49.35, 49.26, 49.21]\n",
    "xI_[4,:]=[47.13, 46.34, 45.68, 45.39, 45.12, 44.99, 44.92, 44.87]\n",
    "\n",
    "cs_[0,:]=[0.0337, 0.0560, 0.0829, 0.09799, 0.1142, 0.1226, 0.128, 0.1312]\n",
    "cs_[1,:]=[0.2147, 0.3185, 0.4148, 0.4596, 0.5012, 0.5211, 0.5327, 0.5403]\n",
    "cs_[2,:]=[0.3719, 0.5303, 0.666, 0.7256, 0.7800, 0.8054, 0.8201, 0.8297]\n",
    "cs_[3,:]=[0.5171, 0.7196, 0.8853, 0.9560, 1.0196,  1.0490, 1.0660, 1.0770]\n",
    "cs_[4,:]=[0.6543, 0.8947, 1.0852, 1.1650, 1.2360, 1.2686, 1.2873, 1.299]\n",
    "\n",
    "\n",
    "\n",
    "\n",
    "\n",
    "vg_ = (1-tc)*j_c0/(n*F)\n",
    "jg_ = (1./3.)*n*F*(rho/M)*vg_\n",
    "xI_chaz_ = 1e+09*((3./2.)*dV)**(2/3.)*(epss*epss0*n*F*uc/(2*jg_))**(1/3.)  \n",
    "c_s_chaz_ = (jg_*epss*epss0/(2*n*F*n*uc*F*F*n*1e-09*xI_chaz_))**0.5\n",
    "\n",
    "term_sph = np.zeros((j_c0.size,R_.size))\n",
    "\n",
    "for j in range(R_.size):\n",
    "    for i in range(j_c0.size):\n",
    "        x = 1e-09*np.arange(R_[j],R_[j]+xI_[i,j],xI_[i,j]/1000.)\n",
    "        y = ((1e-09*xI_[i,j]+1e-09*R_[j])**3-x**3)**0.5/x**2\n",
    "        term_sph[i,j] = 1e-09*R_[j]*simps(y,x)/((1e-09*xI_[i,j])**(3./2.))\n",
    "\n",
    "print term_sph - 2./(3.)**0.5       "
   ]
  }
 ],
 "metadata": {
  "kernelspec": {
   "display_name": "Python 2",
   "language": "python",
   "name": "python2"
  },
  "language_info": {
   "codemirror_mode": {
    "name": "ipython",
    "version": 3
   },
   "file_extension": ".py",
   "mimetype": "text/x-python",
   "name": "python",
   "nbconvert_exporter": "python",
   "pygments_lexer": "ipython3",
   "version": "3.7.6"
  }
 },
 "nbformat": 4,
 "nbformat_minor": 2
}
